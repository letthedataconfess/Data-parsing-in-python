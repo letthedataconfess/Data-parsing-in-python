{
 "cells": [
  {
   "cell_type": "markdown",
   "metadata": {},
   "source": [
    "## parsing of xml file in python "
   ]
  },
  {
   "cell_type": "markdown",
   "metadata": {},
   "source": [
    "XML: XML stands for eXtensible Markup Language. It was designed to store and transport data. It was designed to be both human- and machine-readable.That’s why, the design goals of XML emphasize simplicity, generality, and usability across the Internet.\n",
    "The XML file to be parsed in this tutorial is actually a RSS feed."
   ]
  },
  {
   "cell_type": "code",
   "execution_count": null,
   "metadata": {},
   "outputs": [],
   "source": [
    "import csv \n",
    "import requests \n",
    "import xml.etree.ElementTree as ET # to parse xml \n",
    "  \n"
   ]
  },
  {
   "cell_type": "code",
   "execution_count": null,
   "metadata": {},
   "outputs": [],
   "source": [
    "\n",
    "def parseXML(xmlfile): \n",
    "  \n",
    "    tree = ET.parse(xmlfile)          # create element tree object \n",
    "    root = tree.getroot()               # get root element\n",
    "    \n",
    "    items = []\n",
    "    abstract = []\n",
    "    title = []\n",
    "    \n",
    "  \n",
    "    # iterate item over body as we need to extract data from body\n",
    "    for item in root.findall('BODY'):   \n",
    "        # iterate child elements of item \n",
    "        for child in item:\n",
    "            a = child.find('P').text\n",
    "            items.append(a)\n",
    "            #print(items)\n",
    "        \n",
    "        # to extract title\n",
    "    for item1 in root.findall('TITLE'): \n",
    "        a = item1.text\n",
    "        title.append(a)\n",
    "        #print(title)\n",
    "        \n",
    "    for item2 in root.find('ABSTRACT'):\n",
    "        #print(item2.text)\n",
    "        abstract.append(item2.text)\n",
    "        #print(abstract)\n",
    "    \n",
    "    \n",
    "   \n",
    "    #print(title)\n",
    "    #print('\\n')\n",
    "    #print(abstract)\n",
    "    #print('\\n')\n",
    "    #print(items)\n",
    "    #print('\\n')\n",
    "    #rows = zip(title,abstract,items) \n",
    "    #print(rows)\n",
    "         \n",
    "    # return news items list \n",
    "    return(title,abstract,items) "
   ]
  },
  {
   "cell_type": "code",
   "execution_count": null,
   "metadata": {},
   "outputs": [],
   "source": [
    "x = parseXML('data.xml')\n",
    "zip(x)"
   ]
  },
  {
   "cell_type": "code",
   "execution_count": null,
   "metadata": {},
   "outputs": [],
   "source": [
    "import csv\n",
    "with open('topnews.csv', \"w\") as f:\n",
    "    writer = csv.writer(f)\n",
    "    for row in x:\n",
    "        print(row)\n",
    "        writer.writerow(row)\n"
   ]
  },
  {
   "cell_type": "code",
   "execution_count": null,
   "metadata": {},
   "outputs": [],
   "source": []
  },
  {
   "cell_type": "code",
   "execution_count": null,
   "metadata": {},
   "outputs": [],
   "source": []
  }
 ],
 "metadata": {
  "kernelspec": {
   "display_name": "Python 3",
   "language": "python",
   "name": "python3"
  },
  "language_info": {
   "codemirror_mode": {
    "name": "ipython",
    "version": 3
   },
   "file_extension": ".py",
   "mimetype": "text/x-python",
   "name": "python",
   "nbconvert_exporter": "python",
   "pygments_lexer": "ipython3",
   "version": "3.7.1"
  }
 },
 "nbformat": 4,
 "nbformat_minor": 2
}
